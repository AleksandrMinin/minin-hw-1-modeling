{
 "cells": [
  {
   "cell_type": "code",
   "execution_count": 1,
   "id": "4cf918f4",
   "metadata": {},
   "outputs": [],
   "source": [
    "import torch\n",
    "import timm"
   ]
  },
  {
   "cell_type": "code",
   "execution_count": 2,
   "id": "2d455fcf",
   "metadata": {},
   "outputs": [],
   "source": [
    "image_classes = ['agriculture',\n",
    "                 'artisinal_mine',\n",
    "                 'bare_ground',\n",
    "                 'blooming',\n",
    "                 'blow_down',\n",
    "                 'clear',\n",
    "                 'cloudy',\n",
    "                 'conventional_mine',\n",
    "                 'cultivation',\n",
    "                 'habitation',\n",
    "                 'haze',\n",
    "                 'partly_cloudy',\n",
    "                 'primary',\n",
    "                 'road',\n",
    "                 'selective_logging',\n",
    "                 'slash_burn',\n",
    "                 'water']\n",
    "DEVICE = 'cuda:0'"
   ]
  },
  {
   "cell_type": "code",
   "execution_count": 3,
   "id": "74dcbaff",
   "metadata": {},
   "outputs": [
    {
     "data": {
      "text/plain": [
       "<All keys matched successfully>"
      ]
     },
     "execution_count": 3,
     "metadata": {},
     "output_type": "execute_result"
    }
   ],
   "source": [
    "state_dict = torch.load('../weights/model.best.pth')\n",
    "\n",
    "model = timm.create_model(model_name=\"resnet18\", pretrained=False, num_classes=len(image_classes))\n",
    "model.load_state_dict(state_dict)"
   ]
  },
  {
   "cell_type": "code",
   "execution_count": 4,
   "id": "31d99033",
   "metadata": {},
   "outputs": [],
   "source": [
    "class ModelWrapper(torch.nn.Module):\n",
    "    def __init__(self, model, classes, size, thresholds):\n",
    "        super().__init__()\n",
    "        self.model = model\n",
    "        self.classes = classes\n",
    "        self.size = size\n",
    "        self.thresholds = thresholds\n",
    "\n",
    "    def forward(self, image):\n",
    "        return torch.sigmoid(self.model.forward(image))"
   ]
  },
  {
   "cell_type": "code",
   "execution_count": 5,
   "id": "76236880",
   "metadata": {},
   "outputs": [],
   "source": [
    "wrapper = ModelWrapper(model, classes=image_classes, size=(224, 224), thresholds=(0.5,) * len(image_classes))"
   ]
  },
  {
   "cell_type": "code",
   "execution_count": 6,
   "id": "e499897f",
   "metadata": {},
   "outputs": [],
   "source": [
    "scripted_model = torch.jit.script(wrapper)"
   ]
  },
  {
   "cell_type": "code",
   "execution_count": 7,
   "id": "77a8e353",
   "metadata": {},
   "outputs": [
    {
     "data": {
      "text/plain": [
       "['agriculture',\n",
       " 'artisinal_mine',\n",
       " 'bare_ground',\n",
       " 'blooming',\n",
       " 'blow_down',\n",
       " 'clear',\n",
       " 'cloudy',\n",
       " 'conventional_mine',\n",
       " 'cultivation',\n",
       " 'habitation',\n",
       " 'haze',\n",
       " 'partly_cloudy',\n",
       " 'primary',\n",
       " 'road',\n",
       " 'selective_logging',\n",
       " 'slash_burn',\n",
       " 'water']"
      ]
     },
     "execution_count": 7,
     "metadata": {},
     "output_type": "execute_result"
    }
   ],
   "source": [
    "scripted_model.classes"
   ]
  },
  {
   "cell_type": "code",
   "execution_count": 8,
   "id": "c8b5171f",
   "metadata": {},
   "outputs": [],
   "source": [
    "traced_model = torch.jit.trace(wrapper, torch.rand(1, 3, 224, 224))"
   ]
  },
  {
   "cell_type": "code",
   "execution_count": 9,
   "id": "ce0d2051",
   "metadata": {},
   "outputs": [],
   "source": [
    "dummy_input = torch.rand(1, 3, 224, 224)"
   ]
  },
  {
   "cell_type": "code",
   "execution_count": 10,
   "id": "d43cb5ac",
   "metadata": {},
   "outputs": [
    {
     "name": "stdout",
     "output_type": "stream",
     "text": [
      "tensor([[0.1616, 0.0019, 0.0059, 0.0026, 0.0017, 0.7342, 0.0027, 0.0016, 0.0342,\n",
      "         0.0191, 0.0116, 0.0800, 0.9929, 0.0734, 0.0029, 0.0026, 0.1044]])\n"
     ]
    }
   ],
   "source": [
    "with torch.no_grad():\n",
    "    print(torch.sigmoid(model(dummy_input)))"
   ]
  },
  {
   "cell_type": "code",
   "execution_count": 11,
   "id": "948a3be8",
   "metadata": {},
   "outputs": [
    {
     "name": "stdout",
     "output_type": "stream",
     "text": [
      "tensor([[0.1616, 0.0019, 0.0059, 0.0026, 0.0017, 0.7342, 0.0027, 0.0016, 0.0342,\n",
      "         0.0191, 0.0116, 0.0800, 0.9929, 0.0734, 0.0029, 0.0026, 0.1044]])\n"
     ]
    }
   ],
   "source": [
    " with torch.no_grad():\n",
    "    print(scripted_model(dummy_input))"
   ]
  },
  {
   "cell_type": "code",
   "execution_count": 13,
   "id": "0f9631f1",
   "metadata": {},
   "outputs": [],
   "source": [
    "torch.jit.save(scripted_model, '../weights/space_image_classification.pt')"
   ]
  },
  {
   "cell_type": "code",
   "execution_count": 14,
   "id": "684efec1",
   "metadata": {},
   "outputs": [],
   "source": [
    "model = torch.jit.load('../weights/space_image_classification.pt', map_location='cpu')"
   ]
  },
  {
   "cell_type": "code",
   "execution_count": 15,
   "id": "3a6b6037",
   "metadata": {},
   "outputs": [
    {
     "data": {
      "text/plain": [
       "['agriculture',\n",
       " 'artisinal_mine',\n",
       " 'bare_ground',\n",
       " 'blooming',\n",
       " 'blow_down',\n",
       " 'clear',\n",
       " 'cloudy',\n",
       " 'conventional_mine',\n",
       " 'cultivation',\n",
       " 'habitation',\n",
       " 'haze',\n",
       " 'partly_cloudy',\n",
       " 'primary',\n",
       " 'road',\n",
       " 'selective_logging',\n",
       " 'slash_burn',\n",
       " 'water']"
      ]
     },
     "execution_count": 15,
     "metadata": {},
     "output_type": "execute_result"
    }
   ],
   "source": [
    "model.classes"
   ]
  }
 ],
 "metadata": {
  "kernelspec": {
   "display_name": "Python 3 (ipykernel)",
   "language": "python",
   "name": "python3"
  },
  "language_info": {
   "codemirror_mode": {
    "name": "ipython",
    "version": 3
   },
   "file_extension": ".py",
   "mimetype": "text/x-python",
   "name": "python",
   "nbconvert_exporter": "python",
   "pygments_lexer": "ipython3",
   "version": "3.8.10"
  }
 },
 "nbformat": 4,
 "nbformat_minor": 5
}
